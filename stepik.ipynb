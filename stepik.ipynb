{
 "cells": [
  {
   "cell_type": "code",
   "execution_count": 1,
   "metadata": {},
   "outputs": [],
   "source": [
    "try:\n",
    "    %load_ext cudf.pandas\n",
    "    import pandas as pd\n",
    "\n",
    "    print(\"CUDA acceleration is enabled.\")\n",
    "except ImportError:\n",
    "    (\"Running without CUDA acceleration\")\n"
   ]
  },
  {
   "cell_type": "code",
   "execution_count": 18,
   "metadata": {},
   "outputs": [],
   "source": [
    "from dotenv import dotenv_values, load_dotenv\n",
    "\n",
    "from scipy.spatial.distance import pdist, squareform\n",
    "from itertools import combinations\n",
    "from collections import Counter\n",
    "import numpy as np\n",
    "from sklearn.cluster import KMeans\n",
    "from sqlalchemy import create_engine, text\n",
    "import polars as pl\n",
    "import polars.selectors as cs\n",
    "import os\n",
    "\n",
    "import matplotlib.pyplot as plt\n",
    "import polars as pl\n",
    "import polars.selectors as cs\n",
    "import pyarrow as pa\n",
    "import pandas as pd\n",
    "import plotly.express as px\n",
    "import psycopg\n",
    "\n",
    "# from download_from_S3 import get_data_s3"
   ]
  },
  {
   "cell_type": "code",
   "execution_count": 3,
   "metadata": {},
   "outputs": [
    {
     "data": {
      "text/plain": [
       "polars.config.Config"
      ]
     },
     "execution_count": 3,
     "metadata": {},
     "output_type": "execute_result"
    }
   ],
   "source": [
    "import warnings\n",
    "\n",
    "# Suppress the specific warning about GPU-accelerated mergesort\n",
    "warnings.filterwarnings(\n",
    "    \"ignore\", message=\"GPU-accelerated mergesort is currently not supported\"\n",
    ")\n",
    "pd.set_option(\"display.float_format\", lambda x: \"{:,.2f}\".format(x))\n",
    "pd.set_option(\"display.max_columns\", None)\n",
    "# pd.set_option('display.max_rows', 20)\n",
    "pd.set_option(\"display.width\", None)\n",
    "\n",
    "\n",
    "# Set global configuration for number formatting\n",
    "pl.Config.set_fmt_str_lengths(100)  # For longer string display\n",
    "pl.Config.set_tbl_formatting(\"UTF8_FULL_CONDENSED\")\n",
    "pl.Config.set_tbl_cell_numeric_alignment(\"RIGHT\")\n",
    "pl.Config.set_tbl_rows(20)\n",
    "#pl.Config.set_thousands_separator(\",\")  # Set thousands separator\n",
    "pl.Config.set_float_precision(0)  # Set decimal places"
   ]
  },
  {
   "cell_type": "code",
   "execution_count": null,
   "metadata": {},
   "outputs": [],
   "source": []
  },
  {
   "cell_type": "code",
   "execution_count": 4,
   "metadata": {},
   "outputs": [],
   "source": [
    "%load_ext autoreload\n",
    "%autoreload 2\n"
   ]
  },
  {
   "cell_type": "code",
   "execution_count": 14,
   "metadata": {},
   "outputs": [],
   "source": [
    "df = pl.DataFrame({\n",
    "    'Product_ID': ['21499', '22458', '22898', '22303', '22302', '22961', '22386', '85099B', \n",
    "                   '22862', '22896', '22667', '22379', '20682', '20718', '21498', '22808', \n",
    "                   '85123A', '22062', '22644', '22508'],\n",
    "    'Quantity': [25, 8, 8, 6, 6, 12, 10, 10, 4, 6, 6, 5, 6, 10, 25, 12, 12, 24, 60, 16],\n",
    "    'Item_Total': [10.5, 20.4, 15.6, 15.3, 15.3, 17.4, 19.5, 19.5, 17.0, 15.3, 17.7, \n",
    "                   10.5, 19.5, 12.5, 10.5, 35.4, 35.4, 70.8, 87.0, 54.24]\n",
    "})"
   ]
  },
  {
   "cell_type": "code",
   "execution_count": 15,
   "metadata": {},
   "outputs": [
    {
     "data": {
      "text/html": [
       "<div><style>\n",
       ".dataframe > thead > tr,\n",
       ".dataframe > tbody > tr {\n",
       "  text-align: right;\n",
       "  white-space: pre-wrap;\n",
       "}\n",
       "</style>\n",
       "<small>shape: (1, 1)</small><table border=\"1\" class=\"dataframe\"><thead><tr><th>Item_Total</th></tr><tr><td>f64</td></tr></thead><tbody><tr><td>45</td></tr></tbody></table></div>"
      ],
      "text/plain": [
       "shape: (1, 1)\n",
       "┌────────────┐\n",
       "│ Item_Total │\n",
       "│        --- │\n",
       "│        f64 │\n",
       "╞════════════╡\n",
       "│         45 │\n",
       "└────────────┘"
      ]
     },
     "execution_count": 15,
     "metadata": {},
     "output_type": "execute_result"
    }
   ],
   "source": [
    "df.filter(pl.col(\"Quantity\") > 20).select(pl.col('Item_Total')).mean()"
   ]
  }
 ],
 "metadata": {
  "kernelspec": {
   "display_name": "stepik-Svt5v-80-py3.12",
   "language": "python",
   "name": "python3"
  },
  "language_info": {
   "codemirror_mode": {
    "name": "ipython",
    "version": 3
   },
   "file_extension": ".py",
   "mimetype": "text/x-python",
   "name": "python",
   "nbconvert_exporter": "python",
   "pygments_lexer": "ipython3",
   "version": "3.12.3"
  }
 },
 "nbformat": 4,
 "nbformat_minor": 2
}
